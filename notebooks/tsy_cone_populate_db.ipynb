{
 "cells": [
  {
   "cell_type": "code",
   "execution_count": 2,
   "id": "a4753bf2-0c13-492f-afae-f28616da8db8",
   "metadata": {},
   "outputs": [
    {
     "name": "stdout",
     "output_type": "stream",
     "text": [
      "2025: prepared 980 rows\n",
      "getting data source for sandbox\n",
      "✅ Done bulk-loading rate_curves from 2025-02-25 through 2025-06-05\n",
      "🏃 View run bustling-robin-731 at: http://127.0.0.1:8768/#/experiments/1500/runs/6547b854ab8e415d991a7babf6cb5644\n",
      "🧪 View experiment at: http://127.0.0.1:8768/#/experiments/1500\n"
     ]
    }
   ],
   "source": []
  },
  {
   "cell_type": "code",
   "execution_count": null,
   "id": "79ba97e5-96ae-4277-af4b-8ac622368a1e",
   "metadata": {},
   "outputs": [],
   "source": []
  }
 ],
 "metadata": {
  "kernelspec": {
   "display_name": "Python 3 (ipykernel)",
   "language": "python",
   "name": "python3"
  },
  "language_info": {
   "codemirror_mode": {
    "name": "ipython",
    "version": 3
   },
   "file_extension": ".py",
   "mimetype": "text/x-python",
   "name": "python",
   "nbconvert_exporter": "python",
   "pygments_lexer": "ipython3",
   "version": "3.10.14"
  }
 },
 "nbformat": 4,
 "nbformat_minor": 5
}
