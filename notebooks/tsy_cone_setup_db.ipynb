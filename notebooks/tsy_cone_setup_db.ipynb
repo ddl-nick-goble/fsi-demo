{
 "cells": [
  {
   "cell_type": "code",
   "execution_count": 2,
   "id": "8ecfe2d3-e406-4374-a050-dbfa8682a6a8",
   "metadata": {},
   "outputs": [
    {
     "name": "stdout",
     "output_type": "stream",
     "text": [
      "getting data source for sandbox\n",
      "✅ rate_cones table dropped (if existed) and recreated.\n"
     ]
    }
   ],
   "source": [
    "import sys\n",
    "from pathlib import Path\n",
    "sys.path.append(str(Path.cwd().parent))\n",
    "\n",
    "import data.data_source as data_source\n",
    "\n",
    "ds = data_source.get_data_source()\n",
    "\n",
    "DROP_SQL = \"DROP TABLE IF EXISTS rate_cones;\"\n",
    "CREATE_SQL = \"\"\"\n",
    "CREATE TABLE rate_cones (\n",
    "  cone_type   TEXT    NOT NULL,  -- e.g. 'pca1', 'pca2', 'montecarlo', 'historical_95'\n",
    "  cone_date   DATE    NOT NULL,  -- asof date for the curve\n",
    "  tenor_str   TEXT    NOT NULL,  -- '1Y', '2Y', etc.\n",
    "  shift_bps   DOUBLE PRECISION NOT NULL, -- e.g. +25, -100\n",
    "  rate        DOUBLE PRECISION NOT NULL, -- shifted rate\n",
    "  tenor_num   DOUBLE PRECISION NOT NULL, -- numeric tenor like 1.0\n",
    "  inserted_at TIMESTAMPTZ NOT NULL DEFAULT CURRENT_TIMESTAMP,\n",
    "  PRIMARY KEY (cone_type, cone_date, shift_bps, tenor_str)\n",
    ");\n",
    "\"\"\"\n",
    "\n",
    "def setup_table():\n",
    "    ds.query(DROP_SQL)\n",
    "    ds.query(CREATE_SQL)\n",
    "    print(\"✅ rate_cones table dropped (if existed) and recreated.\")\n",
    "\n",
    "setup_table()\n"
   ]
  }
 ],
 "metadata": {
  "kernelspec": {
   "display_name": "Python 3 (ipykernel)",
   "language": "python",
   "name": "python3"
  },
  "language_info": {
   "codemirror_mode": {
    "name": "ipython",
    "version": 3
   },
   "file_extension": ".py",
   "mimetype": "text/x-python",
   "name": "python",
   "nbconvert_exporter": "python",
   "pygments_lexer": "ipython3",
   "version": "3.10.14"
  }
 },
 "nbformat": 4,
 "nbformat_minor": 5
}
