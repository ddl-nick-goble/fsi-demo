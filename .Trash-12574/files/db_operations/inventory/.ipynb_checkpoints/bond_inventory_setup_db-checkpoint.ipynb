{
 "cells": [
  {
   "cell_type": "code",
   "execution_count": 1,
   "id": "b7a2c534-c854-4afa-8d8b-f2d0996485be",
   "metadata": {},
   "outputs": [
    {
     "name": "stdout",
     "output_type": "stream",
     "text": [
      "✅ bond_inventory table dropped (if existed) and recreated.\n"
     ]
    }
   ],
   "source": [
    "from domino.data_sources import DataSourceClient\n",
    "\n",
    "# grab your Postgres DS\n",
    "ds = DataSourceClient().get_datasource(\"market_data\")\n",
    "\n",
    "# DDL for Bond Inventory\n",
    "DROP_SQL = \"DROP TABLE IF EXISTS bond_inventory;\"\n",
    "CREATE_SQL = \"\"\"\n",
    "CREATE TABLE bond_inventory (\n",
    "  inventory_date DATE NOT NULL,\n",
    "  cusip TEXT NOT NULL,\n",
    "  quantity DOUBLE PRECISION NOT NULL,\n",
    "\n",
    "  -- core bond details\n",
    "  security_type TEXT,\n",
    "  security_term TEXT,\n",
    "  issue_date DATE,\n",
    "  maturity_date DATE,\n",
    "  int_rate DOUBLE PRECISION,\n",
    "  int_payment_frequency TEXT,\n",
    "  series TEXT,\n",
    "\n",
    "  -- optional but useful fields\n",
    "  price_per100 TEXT,\n",
    "  auction_date DATE,\n",
    "  original_issue_date DATE,\n",
    "  dated_date DATE,\n",
    "  callable TEXT,\n",
    "  call_date DATE,\n",
    "\n",
    "  updated_at TIMESTAMPTZ NOT NULL DEFAULT CURRENT_TIMESTAMP,\n",
    "  PRIMARY KEY (inventory_date, cusip)\n",
    ");\n",
    "\"\"\"\n",
    "\n",
    "def setup_bond_inventory_table():\n",
    "    ds.query(DROP_SQL)\n",
    "    ds.query(CREATE_SQL)\n",
    "    print(\"✅ bond_inventory table dropped (if existed) and recreated.\")\n",
    "\n",
    "if __name__ == \"__main__\":\n",
    "    setup_bond_inventory_table()\n"
   ]
  },
  {
   "cell_type": "code",
   "execution_count": null,
   "id": "309d5914-6d2e-403b-8812-567f4d08b4d1",
   "metadata": {},
   "outputs": [],
   "source": []
  }
 ],
 "metadata": {
  "kernelspec": {
   "display_name": "Python 3 (ipykernel)",
   "language": "python",
   "name": "python3"
  },
  "language_info": {
   "codemirror_mode": {
    "name": "ipython",
    "version": 3
   },
   "file_extension": ".py",
   "mimetype": "text/x-python",
   "name": "python",
   "nbconvert_exporter": "python",
   "pygments_lexer": "ipython3",
   "version": "3.10.14"
  }
 },
 "nbformat": 4,
 "nbformat_minor": 5
}
