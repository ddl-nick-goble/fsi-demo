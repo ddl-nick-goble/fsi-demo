{
 "cells": [
  {
   "cell_type": "code",
   "execution_count": 1,
   "id": "8ecfe2d3-e406-4374-a050-dbfa8682a6a8",
   "metadata": {},
   "outputs": [
    {
     "name": "stdout",
     "output_type": "stream",
     "text": [
      "✅ rate_curves table dropped (if existed) and recreated.\n"
     ]
    }
   ],
   "source": [
    "from domino.data_sources import DataSourceClient\n",
    "\n",
    "# grab your Postgres DS\n",
    "ds = DataSourceClient().get_datasource(\"market_data\")\n",
    "\n",
    "# DDL\n",
    "DROP_SQL = \"DROP TABLE IF EXISTS rate_curves;\"\n",
    "CREATE_SQL = \"\"\"\n",
    "CREATE TABLE rate_curves (\n",
    "  curve_type  TEXT    NOT NULL,\n",
    "  curve_date  DATE    NOT NULL,\n",
    "  tenor_str   TEXT    NOT NULL,\n",
    "  rate        DOUBLE PRECISION NOT NULL,\n",
    "  tenor_num   DOUBLE PRECISION NOT NULL,\n",
    "  inserted_at TIMESTAMPTZ    NOT NULL DEFAULT CURRENT_TIMESTAMP,\n",
    "  PRIMARY KEY (curve_type, curve_date, tenor_str)\n",
    ");\n",
    "\"\"\"\n",
    "\n",
    "def setup_table():\n",
    "    ds.query(DROP_SQL)\n",
    "    ds.query(CREATE_SQL)\n",
    "    print(\"✅ rate_curves table dropped (if existed) and recreated.\")\n",
    "\n",
    "setup_table()\n"
   ]
  },
  {
   "cell_type": "code",
   "execution_count": null,
   "id": "6c0296d8-7c4a-4119-845a-9184822a7515",
   "metadata": {},
   "outputs": [],
   "source": []
  }
 ],
 "metadata": {
  "kernelspec": {
   "display_name": "Python 3 (ipykernel)",
   "language": "python",
   "name": "python3"
  },
  "language_info": {
   "codemirror_mode": {
    "name": "ipython",
    "version": 3
   },
   "file_extension": ".py",
   "mimetype": "text/x-python",
   "name": "python",
   "nbconvert_exporter": "python",
   "pygments_lexer": "ipython3",
   "version": "3.10.14"
  }
 },
 "nbformat": 4,
 "nbformat_minor": 5
}
